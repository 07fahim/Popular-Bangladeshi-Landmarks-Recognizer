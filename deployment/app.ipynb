{
  "cells": [
    {
      "cell_type": "code",
      "execution_count": null,
      "metadata": {
        "id": "bIMWEmq_Y_q4"
      },
      "outputs": [],
      "source": [
        "!pip install -Uqq fastai gradio nbdev"
      ]
    },
    {
      "cell_type": "code",
      "execution_count": null,
      "metadata": {
        "id": "6jw1VVFMZsvk"
      },
      "outputs": [],
      "source": [
        "import gradio as gr\n",
        "from fastai.vision.all import *"
      ]
    },
    {
      "cell_type": "code",
      "execution_count": null,
      "metadata": {
        "colab": {
          "base_uri": "https://localhost:8080/"
        },
        "id": "8unI1PxkZxsb",
        "outputId": "f59839ef-9724-4382-bab3-d97874aebe48"
      },
      "outputs": [
        {
          "name": "stdout",
          "output_type": "stream",
          "text": [
            "Drive already mounted at /content/drive; to attempt to forcibly remount, call drive.mount(\"/content/drive\", force_remount=True).\n"
          ]
        }
      ],
      "source": [
        "from google.colab import drive\n",
        "drive.mount('/content/drive')"
      ]
    },
    {
      "cell_type": "code",
      "execution_count": null,
      "metadata": {
        "colab": {
          "base_uri": "https://localhost:8080/"
        },
        "id": "MAbo-JWvZ4Ar",
        "outputId": "769745f5-84e1-47cd-aed4-849acc4b0ffe"
      },
      "outputs": [
        {
          "name": "stdout",
          "output_type": "stream",
          "text": [
            "/content/drive/MyDrive/bangladeshi_landmarks\n"
          ]
        }
      ],
      "source": [
        "%cd /content/drive/MyDrive/bangladeshi_landmarks"
      ]
    },
    {
      "cell_type": "code",
      "execution_count": null,
      "metadata": {
        "colab": {
          "base_uri": "https://localhost:8080/"
        },
        "id": "bMWDvBolaBMi",
        "outputId": "731b66e8-22ef-42c3-c662-ffe587db3b3c"
      },
      "outputs": [
        {
          "name": "stderr",
          "output_type": "stream",
          "text": [
            "/usr/local/lib/python3.12/dist-packages/fastai/learner.py:455: UserWarning: load_learner` uses Python's insecure pickle module, which can execute malicious arbitrary code when loading. Only load files you trust.\n",
            "If you only need to load model weights and optimizer state, use the safe `Learner.load` instead.\n",
            "  warn(\"load_learner` uses Python's insecure pickle module, which can execute malicious arbitrary code when loading. Only load files you trust.\\nIf you only need to load model weights and optimizer state, use the safe `Learner.load` instead.\")\n"
          ]
        }
      ],
      "source": [
        "model = load_learner(\"models/vgg19_bn_v2.pkl\")"
      ]
    },
    {
      "cell_type": "code",
      "execution_count": null,
      "metadata": {
        "id": "BFKJgN8OacoL"
      },
      "outputs": [],
      "source": [
        "def recognize_landmark(image):\n",
        "    pred, idx, probs = model.predict(image)\n",
        "    top_probs = sorted(\n",
        "        zip(model.dls.vocab, map(float, probs)),\n",
        "        key=lambda x: x[1], reverse=True\n",
        "    )\n",
        "    label_dict = {cls: float(prob) for cls, prob in top_probs}\n",
        "    top_pred = pred\n",
        "    return label_dict, top_pred"
      ]
    },
    {
      "cell_type": "code",
      "execution_count": null,
      "metadata": {
        "colab": {
          "base_uri": "https://localhost:8080/",
          "height": 611
        },
        "id": "340qoqlFg4Pv",
        "outputId": "dfa7a588-3d71-4558-be96-65bb721a073e"
      },
      "outputs": [
        {
          "name": "stdout",
          "output_type": "stream",
          "text": [
            "Colab notebook detected. To show errors in colab notebook, set debug=True in launch()\n",
            "* Running on public URL: https://3e5ae2eb5068e4db7e.gradio.live\n",
            "\n",
            "This share link expires in 1 week. For free permanent hosting and GPU upgrades, run `gradio deploy` from the terminal in the working directory to deploy to Hugging Face Spaces (https://huggingface.co/spaces)\n"
          ]
        },
        {
          "data": {
            "text/html": [
              "<div><iframe src=\"https://3e5ae2eb5068e4db7e.gradio.live\" width=\"100%\" height=\"500\" allow=\"autoplay; camera; microphone; clipboard-read; clipboard-write;\" frameborder=\"0\" allowfullscreen></iframe></div>"
            ],
            "text/plain": [
              "<IPython.core.display.HTML object>"
            ]
          },
          "metadata": {},
          "output_type": "display_data"
        },
        {
          "data": {
            "text/plain": []
          },
          "execution_count": 24,
          "metadata": {},
          "output_type": "execute_result"
        }
      ],
      "source": [
        "with gr.Blocks() as demo:\n",
        "\n",
        "    gr.Markdown(\n",
        "        \"\"\"\n",
        "        # Popular Bangladeshi Landmarks Recognizer\n",
        "        Upload an image of a **Bangladeshi landmark**.\n",
        "        \"\"\"\n",
        "    )\n",
        "\n",
        "    with gr.Row():\n",
        "        with gr.Column():\n",
        "            image_input = gr.Image(type=\"pil\", label=\"📸 Upload Landmark Image\")\n",
        "            predict_btn = gr.Button(\"🔍 Classify\")\n",
        "\n",
        "        with gr.Column():\n",
        "            gr.Markdown(\"###  Prediction Results\")\n",
        "            label_output = gr.Label(label=\"Class Probabilities (All 16 Classes)\")\n",
        "            top_pred_text = gr.Textbox(label=\"Most Likely Landmark\", interactive=False)\n",
        "\n",
        "\n",
        "\n",
        "    examples=[\n",
        "            [\"test_image1.jpg\"],\n",
        "            [\"test_image2.jpg\"],\n",
        "            [\"test_image3.jpg\"],\n",
        "            [\"test_image4.jpg\"],\n",
        "            [\"test_image5.jpg\"],\n",
        "            [\"test_image6.jpg\"],\n",
        "            [\"test_image7.jpg\"],\n",
        "            [\"test_image8.jpg\"],\n",
        "            [\"test_image9.jpg\"],\n",
        "            [\"test_image10.jpg\"],\n",
        "            [\"test_image11.jpg\"],\n",
        "            [\"test_image12.jpg\"],\n",
        "            [\"test_image13.jpg\"],\n",
        "            [\"test_image14.jpg\"],\n",
        "            [\"test_image15.jpeg\"],\n",
        "            [\"test_image16.jpg\"]\n",
        "        ]\n",
        "    gr.Examples(examples=examples, inputs=image_input)\n",
        "\n",
        "\n",
        "    predict_btn.click(\n",
        "        fn=recognize_landmark,\n",
        "        inputs=image_input,\n",
        "        outputs=[label_output, top_pred_text]\n",
        "    )\n",
        "\n",
        "\n",
        "demo.launch(share=True)"
      ]
    }
  ],
  "metadata": {
    "colab": {
      "provenance": []
    },
    "kernelspec": {
      "display_name": "Python 3",
      "name": "python3"
    },
    "language_info": {
      "name": "python"
    }
  },
  "nbformat": 4,
  "nbformat_minor": 0
}
